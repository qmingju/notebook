{
 "cells": [
  {
   "attachments": {},
   "cell_type": "markdown",
   "metadata": {},
   "source": [
    "> You can read about Burgers' Equation on its [wikipedia page](https://en.wikipedia.org/wiki/Burgers'_equation).\n",
    "\n",
    "您可以在其[维基百科](https://en.wikipedia.org/wiki/Burgers'_equation)页面上阅读有关 Burgers 方程的信息\n",
    "\n",
    "> Burgers' equation in one spatial dimension looks like this:\n",
    "\n",
    "Burgers 的一维空间方程如下所示：\n",
    "\n",
    "$$\\frac{\\partial u}{\\partial t} + u \\frac{\\partial u}{\\partial x} = v \\frac{\\partial ^2 u}{\\partial x^2}$$\n",
    "\n",
    "> As you can see, it is a combination of non-linear convection and diffusion. It is surprising how much you learn from this neat little equation!\n",
    "\n",
    "如您所见，它是非线性对流和扩散的组合。令人惊讶的是，您从这个简洁的小方程式中学到了多少！\n",
    "\n",
    "> We can discretize it using the methods we've already detailed in Steps 1 to 3. Using forward difference for time, backward difference for space and our 2nd-order method for the second derivatives yields:\n",
    "\n",
    "我们可以使用我们在步骤 1 到 3 中已经详述的方法对其进行离散化。使用时间的前向差分、空间的后向差分和我们的二阶导数的二阶方法得出：\n",
    "\n",
    "$$\\frac{u_i^{n+1} - u_i^n}{\\Delta t} + u_i^n \\frac{u_i^n - u_{i-1}^{n}}{\\Delta x} = v \\frac{u_{i+1}^n - 2u_i^n + u_{i-1}^n}{\\Delta x^2}$$\n",
    "\n",
    "> As before, once we have an initial condition, the only unknown is $u^{n+1}_i$. We will step in time as follows:\n",
    "\n",
    "和以前一样，一旦我们有了初始条件，唯一的未知数就是$u^{n+1}_i$。我们将按以下方式进行时间步进。\n",
    "\n",
    "$$u^{n+1}_i = u_i^n - u_i^n \\frac{\\Delta t}{\\Delta x}(u_i^n - u_{i-1}^n) + v\\frac{\\Delta t}{\\Delta x^2}(u_{i+1}^n - 2u_i^n + u_{i-1}^n)$$\n",
    "\n",
    "### Initial and Boundary Conditions \\ 初始和边界条件\n",
    "\n",
    "> To examine some interesting properties of Burgers' equation, it is helpful to use different initial and boundary conditions than we've been using for previous steps.\n",
    "\n",
    "为了研究伯格斯方程的一些有趣的特性，使用与我们在以前的步骤中使用的不同的初始和边界条件是有帮助的。\n",
    "\n",
    "> Our initial condition for this problem is going to be:\n",
    "\n",
    "我们对这个问题的初始条件为：\n",
    "\n",
    "$$u = - \\frac{2v}{\\phi} \\frac{\\partial \\phi}{\\partial x} + 4 \\tag{1}$$\n",
    "\n",
    "$$\\phi = \\text{exp} \\Big( \\frac{-x^2}{4v} \\Big) + \\text{exp} \\Big( \\frac{-(x-2\\pi)^2}{4v} \\Big) \\tag{2}$$\n",
    "\n",
    "> This has an analytical solution, given by:\n",
    "\n",
    "这里有一个解析解，可由一下公式给出\n",
    "\n",
    "$$ u = -\\frac{2v}{\\phi}\\frac{\\partial \\phi}{\\partial x} + 4 \\tag{3}$$\n",
    "\n",
    "$$ \\phi = \\text{exp} \\Big( \\frac{-(x-4t)^2}{4v(t+1)} \\Big) + \\text{exp} \\Big( \\frac{-(x-4t-2\\pi)^2}{4v(t+1)} \\Big) \\tag{4}$$\n",
    "\n",
    "> Our boundary condition will be:\n",
    "\n",
    "我们的边界条件为：\n",
    "\n",
    "$$u(0) = u(2\\pi)$$\n",
    "\n",
    "> This is called a periodic boundary condition. Pay attention! This will cause you a bit of headache if you don't tread carefully.\n",
    "\n",
    "这被称为周期性边界条件。请注意! 如果你不够小心，这将使你有点头疼。\n",
    "\n",
    "### Saving Time with SymPy / 使用SymPy节省时间\n",
    "\n",
    "> The initial condition we're using for Burgers' Equation can be a bit of a pain to evaluate by hand. The derivative $\\frac{\\partial \\phi}{\\partial x}$ isn't too terribly difficult, but it would be easy to drop a sign or forget a factor of $x$ somewhere, so we're going to use SymPy to help us out.\n",
    "\n",
    "我们在伯格斯方程中使用的初始条件，直接估算可能有点麻烦。导数 $\\frac{\\partial\\phi}{\\partial x}$ 并不难，但很容易在某处丢掉一个符号或忘记$x$的一个因子，所以我们要用SymPy来帮助我们解决。\n",
    "\n",
    "> SymPy is the symbolic math library for Python. It has a lot of the same symbolic math functionality as Mathematica with the added benefit that we can easily translate its results back into our Python calculations (it is also free and open source).\n",
    "\n",
    "SymPy是Python的符号数学库，它有很多与Mathematica相同的符号数学功能，还有一个好处是我们可以很容易地把它的结果转化回我们的Python计算中（它也是免费和开源的）。\n",
    "\n",
    "> Start by loading the SymPy library, together with our favorite library, NumPy.\n",
    "\n",
    "首先加载SymPy库，以及我们最喜欢的库NumPy。"
   ]
  },
  {
   "cell_type": "code",
   "execution_count": 1,
   "metadata": {},
   "outputs": [],
   "source": [
    "import numpy\n",
    "import sympy"
   ]
  },
  {
   "attachments": {},
   "cell_type": "markdown",
   "metadata": {},
   "source": [
    "> We're also going to tell SymPy that we want all of its output to be rendered using LATEX. This will make our Notebook beautiful!\n",
    "\n",
    "我们还将告诉SymPy，我们希望它的所有输出都用LATEX来呈现。这将使我们的笔记本变得漂亮"
   ]
  },
  {
   "cell_type": "code",
   "execution_count": 2,
   "metadata": {},
   "outputs": [],
   "source": [
    "from sympy import init_printing\n",
    "init_printing(use_latex=True)"
   ]
  },
  {
   "attachments": {},
   "cell_type": "markdown",
   "metadata": {},
   "source": [
    "> Start by setting up symbolic variables for the three variables in our initial condition and then type out the full equation for $\\phi$. We should get a nicely rendered version of our $\\phi$ equation.\n",
    "\n",
    "首先为初始条件中的三个变量设置符号变量，然后打出$phi$的完整方程。我们应该得到一个漂亮的$phi$方程的渲染版本。"
   ]
  },
  {
   "cell_type": "code",
   "execution_count": 3,
   "metadata": {},
   "outputs": [
    {
     "data": {
      "image/png": "[encoded data removed]",
      "text/latex": [
       "$\\displaystyle e^{- \\frac{\\left(- 4 t + x - 2 \\pi\\right)^{2}}{4 \\nu \\left(t + 1\\right)}} + e^{- \\frac{\\left(- 4 t + x\\right)^{2}}{4 \\nu \\left(t + 1\\right)}}$"
      ],
      "text/plain": [
       "                  2                2 \n",
       " -(-4⋅t + x - 2⋅π)      -(-4⋅t + x)  \n",
       " ───────────────────    ─────────────\n",
       "     4⋅ν⋅(t + 1)         4⋅ν⋅(t + 1) \n",
       "ℯ                    + ℯ             "
      ]
     },
     "execution_count": 3,
     "metadata": {},
     "output_type": "execute_result"
    }
   ],
   "source": [
    "x,nu,t = sympy.symbols('x nu t')\n",
    "phi = (sympy.exp(-(x - 4 * t) ** 2 / (4 * nu * (t + 1)))) + sympy.exp(-(x - 4 * t - 2 * sympy.pi)**2 / (4 * nu * (t + 1)))\n",
    "phi"
   ]
  },
  {
   "attachments": {},
   "cell_type": "markdown",
   "metadata": {},
   "source": [
    "> It's maybe a little small, but that looks right. Now to evaluate our partial derivative $\\frac{\\partial \\phi}{\\partial x}$ is a trivial task.\n",
    "\n",
    "它可能有点小，但看起来是对的。现在估算我们的偏导$\\frac{\\partial\\phi}{\\partial x}$是一个微不足道的任务。"
   ]
  },
  {
   "cell_type": "code",
   "execution_count": 4,
   "metadata": {},
   "outputs": [
    {
     "data": {
      "image/png": "[encoded data removed]",
      "text/latex": [
       "$\\displaystyle - \\frac{\\left(- 8 t + 2 x\\right) e^{- \\frac{\\left(- 4 t + x\\right)^{2}}{4 \\nu \\left(t + 1\\right)}}}{4 \\nu \\left(t + 1\\right)} - \\frac{\\left(- 8 t + 2 x - 4 \\pi\\right) e^{- \\frac{\\left(- 4 t + x - 2 \\pi\\right)^{2}}{4 \\nu \\left(t + 1\\right)}}}{4 \\nu \\left(t + 1\\right)}$"
      ],
      "text/plain": [
       "                           2                                         2 \n",
       "                -(-4⋅t + x)                         -(-4⋅t + x - 2⋅π)  \n",
       "                ─────────────                       ───────────────────\n",
       "                 4⋅ν⋅(t + 1)                            4⋅ν⋅(t + 1)    \n",
       "  (-8⋅t + 2⋅x)⋅ℯ                (-8⋅t + 2⋅x - 4⋅π)⋅ℯ                   \n",
       "- ─────────────────────────── - ───────────────────────────────────────\n",
       "          4⋅ν⋅(t + 1)                         4⋅ν⋅(t + 1)              "
      ]
     },
     "execution_count": 4,
     "metadata": {},
     "output_type": "execute_result"
    }
   ],
   "source": [
    "phiprime = phi.diff(x)\n",
    "phiprime"
   ]
  },
  {
   "attachments": {},
   "cell_type": "markdown",
   "metadata": {},
   "source": [
    "> If you want to see the unrendered version, just use the Python print command.\n",
    "\n",
    "如果你想看未渲染的版本，只需使用Python打印命令。"
   ]
  },
  {
   "cell_type": "code",
   "execution_count": 5,
   "metadata": {},
   "outputs": [
    {
     "name": "stdout",
     "output_type": "stream",
     "text": [
      "-(-8*t + 2*x)*exp(-(-4*t + x)**2/(4*nu*(t + 1)))/(4*nu*(t + 1)) - (-8*t + 2*x - 4*pi)*exp(-(-4*t + x - 2*pi)**2/(4*nu*(t + 1)))/(4*nu*(t + 1))\n"
     ]
    }
   ],
   "source": [
    "print(phiprime)"
   ]
  },
  {
   "attachments": {},
   "cell_type": "markdown",
   "metadata": {},
   "source": [
    "### Now what? / 之后呢？\n",
    "\n",
    "> Now that we have the Pythonic version of our derivative, we can finish writing out the full initial condition equation and then translate it into a usable Python expression. For this, we'll use the lambdify function, which takes a SymPy symbolic equation and turns it into a callable function.\n",
    "\n",
    "现在我们有了导数的Pythonic版本，我们可以完成写出完整的初始条件方程，然后把它翻译成可用的Python表达式。为此，我们将使用lambdify函数，它接收一个SymPy符号方程并把它变成一个可调用的函数。"
   ]
  },
  {
   "cell_type": "code",
   "execution_count": 7,
   "metadata": {},
   "outputs": [
    {
     "name": "stdout",
     "output_type": "stream",
     "text": [
      "-2*nu*(-(-8*t + 2*x)*exp(-(-4*t + x)**2/(4*nu*(t + 1)))/(4*nu*(t + 1)) - (-8*t + 2*x - 4*pi)*exp(-(-4*t + x - 2*pi)**2/(4*nu*(t + 1)))/(4*nu*(t + 1)))/(exp(-(-4*t + x - 2*pi)**2/(4*nu*(t + 1))) + exp(-(-4*t + x)**2/(4*nu*(t + 1)))) + 4\n"
     ]
    }
   ],
   "source": [
    "from sympy.utilities.lambdify import lambdify\n",
    "\n",
    "u = -2 * nu * (phiprime / phi) + 4\n",
    "print(u)"
   ]
  },
  {
   "attachments": {},
   "cell_type": "markdown",
   "metadata": {},
   "source": [
    "### Lambdify\n",
    "\n",
    "> To lambdify this expression into a useable function, we tell lambdify which variables to request and the function we want to plug them in to.\n",
    "\n",
    "为了把这个表达式变成一个可用的函数，我们告诉lambdify要请求哪些变量，以及我们要把它们插入的函数。"
   ]
  },
  {
   "cell_type": "code",
   "execution_count": 8,
   "metadata": {},
   "outputs": [
    {
     "name": "stdout",
     "output_type": "stream",
     "text": [
      "3.49170664206445\n"
     ]
    }
   ],
   "source": [
    "ufunc = lambdify((t,x,nu),u)\n",
    "print(ufunc(1,4,3))"
   ]
  },
  {
   "attachments": {},
   "cell_type": "markdown",
   "metadata": {},
   "source": [
    "### Back to Burgers' Equation / 回到伯格斯方程\n",
    "\n",
    "> Now that we have the initial conditions set up, we can proceed and finish setting up the problem. We can generate the plot of the initial condition using our lambdify-ed function.\n",
    "\n",
    "现在我们已经设置了初始条件，我们可以继续并完成问题的设置。我们可以用我们的lambdify-ed函数生成初始条件的图。"
   ]
  },
  {
   "cell_type": "code",
   "execution_count": 10,
   "metadata": {},
   "outputs": [
    {
     "data": {
      "text/plain": [
       "array([4.        , 4.06283185, 4.12566371, 4.18849556, 4.25132741,\n",
       "       4.31415927, 4.37699112, 4.43982297, 4.50265482, 4.56548668,\n",
       "       4.62831853, 4.69115038, 4.75398224, 4.81681409, 4.87964594,\n",
       "       4.9424778 , 5.00530965, 5.0681415 , 5.13097336, 5.19380521,\n",
       "       5.25663706, 5.31946891, 5.38230077, 5.44513262, 5.50796447,\n",
       "       5.57079633, 5.63362818, 5.69646003, 5.75929189, 5.82212374,\n",
       "       5.88495559, 5.94778745, 6.0106193 , 6.07345115, 6.136283  ,\n",
       "       6.19911486, 6.26194671, 6.32477856, 6.38761042, 6.45044227,\n",
       "       6.51327412, 6.57610598, 6.63893783, 6.70176967, 6.76460125,\n",
       "       6.82742866, 6.89018589, 6.95176632, 6.99367964, 6.72527549,\n",
       "       4.        , 1.27472451, 1.00632036, 1.04823368, 1.10981411,\n",
       "       1.17257134, 1.23539875, 1.29823033, 1.36106217, 1.42389402,\n",
       "       1.48672588, 1.54955773, 1.61238958, 1.67522144, 1.73805329,\n",
       "       1.80088514, 1.863717  , 1.92654885, 1.9893807 , 2.05221255,\n",
       "       2.11504441, 2.17787626, 2.24070811, 2.30353997, 2.36637182,\n",
       "       2.42920367, 2.49203553, 2.55486738, 2.61769923, 2.68053109,\n",
       "       2.74336294, 2.80619479, 2.86902664, 2.9318585 , 2.99469035,\n",
       "       3.0575222 , 3.12035406, 3.18318591, 3.24601776, 3.30884962,\n",
       "       3.37168147, 3.43451332, 3.49734518, 3.56017703, 3.62300888,\n",
       "       3.68584073, 3.74867259, 3.81150444, 3.87433629, 3.93716815,\n",
       "       4.        ])"
      ]
     },
     "execution_count": 10,
     "metadata": {},
     "output_type": "execute_result"
    }
   ],
   "source": [
    "from matplotlib import pyplot\n",
    "%matplotlib inline\n",
    "\n",
    "###variable declarations/变量声明\n",
    "nx = 101\n",
    "nt = 100\n",
    "dx = 2 * numpy.pi / (nx - 1)\n",
    "nu = 0.07\n",
    "dt = dx * nu\n",
    "\n",
    "x = numpy.linspace(0,2 * numpy.pi, nx)\n",
    "un = numpy.empty(nx)\n",
    "t = 0\n",
    "\n",
    "u = numpy.asarray([ufunc(t, x0, nu) for x0 in x])\n",
    "u"
   ]
  },
  {
   "cell_type": "code",
   "execution_count": 11,
   "metadata": {},
   "outputs": [
    {
     "data": {
      "image/png": "[encoded data removed]",
      "text/plain": [
       "<Figure size 1100x700 with 1 Axes>"
      ]
     },
     "metadata": {
      "needs_background": "light"
     },
     "output_type": "display_data"
    }
   ],
   "source": [
    "pyplot.figure(figsize=(11,7),dpi=100)\n",
    "pyplot.plot(x,u,marker='o',lw=2)\n",
    "pyplot.xlim([0,2 * numpy.pi])\n",
    "pyplot.ylim([0,10]);"
   ]
  },
  {
   "attachments": {},
   "cell_type": "markdown",
   "metadata": {},
   "source": [
    "> This is definitely not the hat function we've been dealing with until now. We call it a \"saw-tooth function\". Let's proceed forward and see what happens.\n",
    "\n",
    "这绝对不是我们到目前为止一直在处理的帽子函数。我们称它为 \"锯齿形函数\"。让我们继续前进，看看会发生什么。\n",
    "\n",
    "### Periodic Boundary Conditions / 周期性的边界件\n",
    "\n",
    "> One of the big differences between Step 4 and the previous lessons is the use of periodic boundary conditions. If you experiment with Steps 1 and 2 and make the simulation run longer (by increasing $nt$) you will notice that the wave will keep moving to the right until it no longer even shows up in the plot.\n",
    "\n",
    "第4步和之前的课程之间的一个很大的区别是使用了周期性的边界条件。如果你对步骤1和2进行实验，并使模拟运行时间更长（通过增加 $nt$），你会注意到波会不断向右移动，直到它甚至不再显示在图中。\n",
    "\n",
    "> With periodic boundary conditions, when a point gets to the right-hand side of the frame, it wraps around back to the front of the frame.\n",
    "\n",
    "> Recall the discretization that we worked out at the beginning of this notebook:"
   ]
  },
  {
   "cell_type": "code",
   "execution_count": null,
   "metadata": {},
   "outputs": [],
   "source": []
  }
 ],
 "metadata": {
  "kernelspec": {
   "display_name": "base",
   "language": "python",
   "name": "python3"
  },
  "language_info": {
   "codemirror_mode": {
    "name": "ipython",
    "version": 3
   },
   "file_extension": ".py",
   "mimetype": "text/x-python",
   "name": "python",
   "nbconvert_exporter": "python",
   "pygments_lexer": "ipython3",
   "version": "3.9.12"
  },
  "orig_nbformat": 4,
  "vscode": {
   "interpreter": {
    "hash": "40d3a090f54c6569ab1632332b64b2c03c39dcf918b08424e98f38b5ae0af88f"
   }
  }
 },
 "nbformat": 4,
 "nbformat_minor": 2
}
