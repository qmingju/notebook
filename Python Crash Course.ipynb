{
 "cells": [
  {
   "cell_type": "markdown",
   "metadata": {},
   "source": [
    "> Hello! This is a quick intro to programming in Python to help you hit the ground running with the 12 Steps to Navier–Stokes.\n",
    "\n",
    "你好！这是对 Python 编程的快速介绍，可帮助您通过12步快速入门 Navier–Stokes。\n",
    "\n",
    "> There are two ways to enjoy these lessons with Python:\n",
    "\n",
    "有两种方法可以使用 Python 享受这些课程：\n",
    "\n",
    "> 1. You can download and install a Python distribution on your computer. One option is the free Anaconda Scientific Python distribution. Another is Canopy, which is free for academic use. Our recommendation is Anaconda.\n",
    "> 2. You can run Python in the cloud using Wakari web-based data analysis, for which you need to create a free account. (No software installation required!)\n",
    "\n",
    "1. 您可以在计算机上下载并安装 Python 发行版。一种选择是免费的 Anaconda Scientific Python 发行版。另一个是 Canopy，可免费用于学术用途。我们的推荐是 Anaconda。\n",
    "2. 您可以使用 Wakari 基于 Web 的数据分析在云中运行 Python，您需要为此创建一个免费帐户。（无需安装软件！）\n",
    "\n",
    "> In either case, you will probably want to download a copy of this notebook, or the whole AeroPython collection. We recommend that you then follow along each lesson, experimenting with the code in the notebooks, or typing the code into a separate Python interactive session.\n",
    "\n",
    "无论哪种情况，您都可能想要下载此笔记本的副本，或整个 AeroPython 集合。我们建议您按照每节课进行，在笔记本中试验代码，或将代码输入到单独的 Python 交互式会话中。\n",
    "\n",
    "> If you decided to work on your local Python installation, you will have to navigate in the terminal to the folder that contains the .ipynb files. Then, to launch the notebook server, just type: ipython notebook\n",
    "\n",
    "如果您决定使用本地 Python 安装，则必须在终端中导航到包含 .ipynb 文件的文件夹。然后，要启动笔记本服务器，只需键入：ipython notebook\n",
    "\n",
    "> You will get a new browser window or tab with a list of the notebooks available in that folder. Click on one and start working!\n",
    "\n",
    "您将获得一个新的浏览器窗口或选项卡，其中包含该文件夹中可用的笔记本列表。 单击一个并开始工作！\n",
    "\n",
    "<br>\n",
    "\n",
    "## Libraries / 库\n",
    "\n",
    "> Python is a high-level open-source language. But the Python world is inhabited by many packages or libraries that provide useful things like array operations, plotting functions, and much more. We can import libraries of functions to expand the capabilities of Python in our programs.\n",
    "\n",
    "Python 是一种高级开源语言，但是 Python 世界中有许多包或库，它们提供有用的东西，如数组操作、绘图函数等等。我们可以导入函数库来扩展 Python 在程序中的功能。\n",
    "\n",
    "> OK! We'll start by importing a few libraries to help us out. First: our favorite library is **NumPy**, providing a bunch of useful array operations (similar to MATLAB). We will use it a lot! The second library we need is **Matplotlib**, a 2D plotting library which we will use to plot our results. The following code will be at the top of most of your programs, so execute this cell first:\n",
    "\n",
    "好的！我们将先导入一些库来帮助我们。首先，我们最喜欢的库是 **NumPy**，它提供了一堆有用的数组操作（类似于 MATLAB），我们会经常使用它。我们需要的第二个库是 **Matplotlib**，一个 2D 绘图库，我们将使用它来绘制我们的结果。以下代码将位于大多数程序的顶部，因此请先执行此单元格："
   ]
  },
  {
   "cell_type": "code",
   "execution_count": 1,
   "metadata": {},
   "outputs": [],
   "source": [
    "# <-- comments in python are denoted by the pound sign, like this one\n",
    "\n",
    "import numpy                 # we import the array library\n",
    "from matplotlib import pyplot    # import plotting library"
   ]
  },
  {
   "cell_type": "markdown",
   "metadata": {},
   "source": [
    "> We are importing one library named `numpy` and we are importing a module called `pyplot` of a big library called `matplotlib`. To use a function belonging to one of these libraries, we have to tell Python where to look for it. For that, each function name is written following the library name, with a dot in between. So if we want to use the NumPy function [linspace()](https://numpy.org/doc/stable/reference/generated/numpy.linspace.html), which creates an array with equally spaced numbers between a start and end, we call it by writing:\n",
    "\n",
    "我们正在导入一个名为 `numpy` 的库，和一个名为 `pyplot` 的模块，该模块来自一个名为 `matplotlib` 的大库。要使用属于这些库之一的函数，我们必须告诉 Python 在哪里寻找它。为此，每个函数名都写在库名之后，中间都有一个点。因此，如果我们想使用 NumPy 函数 [linspace()](https://numpy.org/doc/stable/reference/generated/numpy.linspace.html)，它会创建一个在开始和结束之间具有等距数字的数组，我们可以这样调用它："
   ]
  },
  {
   "cell_type": "code",
   "execution_count": 2,
   "metadata": {},
   "outputs": [
    {
     "data": {
      "text/plain": [
       "array([0.        , 0.55555556, 1.11111111, 1.66666667, 2.22222222,\n",
       "       2.77777778, 3.33333333, 3.88888889, 4.44444444, 5.        ])"
      ]
     },
     "execution_count": 2,
     "metadata": {},
     "output_type": "execute_result"
    }
   ],
   "source": [
    "myarray = numpy.linspace(0, 5, 10)\n",
    "myarray"
   ]
  },
  {
   "cell_type": "markdown",
   "metadata": {},
   "source": [
    "> If we don't preface the linspace() function with numpy, Python will throw an error.\n",
    "\n",
    "如果我们不在 linspace() 函数前面加上 numpy，Python 会抛出错误。"
   ]
  },
  {
   "cell_type": "code",
   "execution_count": 3,
   "metadata": {},
   "outputs": [
    {
     "ename": "NameError",
     "evalue": "name 'linspace' is not defined",
     "output_type": "error",
     "traceback": [
      "\u001b[0;31m---------------------------------------------------------------------------\u001b[0m",
      "\u001b[0;31mNameError\u001b[0m                                 Traceback (most recent call last)",
      "\u001b[1;32m/Users/xumingjun/blog/source/_posts/Python Crash Course.ipynb Cell 6\u001b[0m in \u001b[0;36m<cell line: 1>\u001b[0;34m()\u001b[0m\n\u001b[0;32m----> <a href='vscode-notebook-cell:/Users/xumingjun/blog/source/_posts/Python%20Crash%20Course.ipynb#W5sZmlsZQ%3D%3D?line=0'>1</a>\u001b[0m myarray \u001b[39m=\u001b[39m linspace(\u001b[39m0\u001b[39m, \u001b[39m5\u001b[39m, \u001b[39m10\u001b[39m)\n",
      "\u001b[0;31mNameError\u001b[0m: name 'linspace' is not defined"
     ]
    }
   ],
   "source": [
    "myarray = linspace(0, 5, 10)"
   ]
  },
  {
   "cell_type": "markdown",
   "metadata": {},
   "source": [
    "> The function linspace() is very useful. Try it changing the input parameters!\n",
    "\n",
    "> **Import style:**\n",
    "\n",
    "> You will often see code snippets that use the following lines\n",
    "\n"
   ]
  }
 ],
 "metadata": {
  "kernelspec": {
   "display_name": "Python 3.9.12 ('base')",
   "language": "python",
   "name": "python3"
  },
  "language_info": {
   "codemirror_mode": {
    "name": "ipython",
    "version": 3
   },
   "file_extension": ".py",
   "mimetype": "text/x-python",
   "name": "python",
   "nbconvert_exporter": "python",
   "pygments_lexer": "ipython3",
   "version": "3.9.12"
  },
  "orig_nbformat": 4,
  "vscode": {
   "interpreter": {
    "hash": "40d3a090f54c6569ab1632332b64b2c03c39dcf918b08424e98f38b5ae0af88f"
   }
  }
 },
 "nbformat": 4,
 "nbformat_minor": 2
}
