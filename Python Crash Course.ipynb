{
 "cells": [
  {
   "cell_type": "markdown",
   "metadata": {},
   "source": [
    "> Hello! This is a quick intro to programming in Python to help you hit the ground running with the 12 Steps to Navier–Stokes.\n",
    "\n",
    "你好！这是对 Python 编程的快速介绍，可帮助您通过12步快速入门 Navier–Stokes。\n",
    "\n",
    "> There are two ways to enjoy these lessons with Python:\n",
    "\n",
    "有两种方法可以使用 Python 享受这些课程：\n",
    "\n",
    "> 1. You can download and install a Python distribution on your computer. One option is the free Anaconda Scientific Python distribution. Another is Canopy, which is free for academic use. Our recommendation is Anaconda.\n",
    "> 2. You can run Python in the cloud using Wakari web-based data analysis, for which you need to create a free account. (No software installation required!)\n",
    "\n",
    "1. 您可以在计算机上下载并安装 Python 发行版。一种选择是免费的 Anaconda Scientific Python 发行版。另一个是 Canopy，可免费用于学术用途。我们的推荐是 Anaconda。\n",
    "2. 您可以使用 Wakari 基于 Web 的数据分析在云中运行 Python，您需要为此创建一个免费帐户。（无需安装软件！）\n",
    "\n",
    "> In either case, you will probably want to download a copy of this notebook, or the whole AeroPython collection. We recommend that you then follow along each lesson, experimenting with the code in the notebooks, or typing the code into a separate Python interactive session.\n",
    "\n",
    "无论哪种情况，您都可能想要下载此笔记本的副本，或整个 AeroPython 集合。我们建议您按照每节课进行，在笔记本中试验代码，或将代码输入到单独的 Python 交互式会话中。\n",
    "\n",
    "> If you decided to work on your local Python installation, you will have to navigate in the terminal to the folder that contains the .ipynb files. Then, to launch the notebook server, just type: ipython notebook\n",
    "\n",
    "如果您决定使用本地 Python 安装，则必须在终端中导航到包含 .ipynb 文件的文件夹。然后，要启动笔记本服务器，只需键入：ipython notebook\n",
    "\n",
    "> You will get a new browser window or tab with a list of the notebooks available in that folder. Click on one and start working!\n",
    "\n",
    "您将获得一个新的浏览器窗口或选项卡，其中包含该文件夹中可用的笔记本列表。 单击一个并开始工作！\n",
    "\n",
    "<br>\n",
    "\n",
    "## Libraries / 库\n",
    "\n",
    "> Python is a high-level open-source language. But the Python world is inhabited by many packages or libraries that provide useful things like array operations, plotting functions, and much more. We can import libraries of functions to expand the capabilities of Python in our programs.\n",
    "\n",
    "Python 是一种高级开源语言，但是 Python 世界中有许多包或库，它们提供有用的东西，如数组操作、绘图函数等等。我们可以导入函数库来扩展 Python 在程序中的功能。\n",
    "\n",
    "> OK! We'll start by importing a few libraries to help us out. First: our favorite library is **NumPy**, providing a bunch of useful array operations (similar to MATLAB). We will use it a lot! The second library we need is **Matplotlib**, a 2D plotting library which we will use to plot our results. The following code will be at the top of most of your programs, so execute this cell first:\n",
    "\n",
    "好的！我们将先导入一些库来帮助我们。首先，我们最喜欢的库是 **NumPy**，它提供了一堆有用的数组操作（类似于 MATLAB），我们会经常使用它。我们需要的第二个库是 **Matplotlib**，一个 2D 绘图库，我们将使用它来绘制我们的结果。以下代码将位于大多数程序的顶部，因此请先执行此单元格："
   ]
  },
  {
   "cell_type": "code",
   "execution_count": 1,
   "metadata": {},
   "outputs": [],
   "source": [
    "# <-- comments in python are denoted by the pound sign, like this one\n",
    "\n",
    "import numpy                 # we import the array library\n",
    "from matplotlib import pyplot    # import plotting library"
   ]
  },
  {
   "cell_type": "markdown",
   "metadata": {},
   "source": [
    "> We are importing one library named `numpy` and we are importing a module called `pyplot` of a big library called `matplotlib`. To use a function belonging to one of these libraries, we have to tell Python where to look for it. For that, each function name is written following the library name, with a dot in between. So if we want to use the NumPy function [linspace()](https://numpy.org/doc/stable/reference/generated/numpy.linspace.html), which creates an array with equally spaced numbers between a start and end, we call it by writing:\n",
    "\n",
    "我们正在导入一个名为 `numpy` 的库，和一个名为 `pyplot` 的模块，该模块来自一个名为 `matplotlib` 的大库。要使用属于这些库之一的函数，我们必须告诉 Python 在哪里寻找它。为此，每个函数名都写在库名之后，中间都有一个点。因此，如果我们想使用 NumPy 函数 [linspace()](https://numpy.org/doc/stable/reference/generated/numpy.linspace.html)，它会创建一个在开始和结束之间具有等距数字的数组，我们可以这样调用它："
   ]
  },
  {
   "cell_type": "code",
   "execution_count": 2,
   "metadata": {},
   "outputs": [
    {
     "data": {
      "text/plain": [
       "array([0.        , 0.55555556, 1.11111111, 1.66666667, 2.22222222,\n",
       "       2.77777778, 3.33333333, 3.88888889, 4.44444444, 5.        ])"
      ]
     },
     "execution_count": 2,
     "metadata": {},
     "output_type": "execute_result"
    }
   ],
   "source": [
    "myarray = numpy.linspace(0, 5, 10)\n",
    "myarray"
   ]
  },
  {
   "cell_type": "markdown",
   "metadata": {},
   "source": [
    "> If we don't preface the linspace() function with numpy, Python will throw an error.\n",
    "\n",
    "如果我们不在 linspace() 函数前面加上 numpy，Python 会抛出错误。"
   ]
  },
  {
   "cell_type": "code",
   "execution_count": 3,
   "metadata": {},
   "outputs": [
    {
     "ename": "NameError",
     "evalue": "name 'linspace' is not defined",
     "output_type": "error",
     "traceback": [
      "\u001b[0;31m---------------------------------------------------------------------------\u001b[0m",
      "\u001b[0;31mNameError\u001b[0m                                 Traceback (most recent call last)",
      "\u001b[1;32m/Users/xumingjun/blog/source/notebook/Python Crash Course.ipynb Cell 6\u001b[0m in \u001b[0;36m<cell line: 1>\u001b[0;34m()\u001b[0m\n\u001b[0;32m----> <a href='vscode-notebook-cell:/Users/xumingjun/blog/source/notebook/Python%20Crash%20Course.ipynb#W5sZmlsZQ%3D%3D?line=0'>1</a>\u001b[0m myarray \u001b[39m=\u001b[39m linspace(\u001b[39m0\u001b[39m, \u001b[39m5\u001b[39m, \u001b[39m10\u001b[39m)\n",
      "\u001b[0;31mNameError\u001b[0m: name 'linspace' is not defined"
     ]
    }
   ],
   "source": [
    "myarray = linspace(0, 5, 10)"
   ]
  },
  {
   "cell_type": "markdown",
   "metadata": {},
   "source": [
    "> The function linspace() is very useful. Try it changing the input parameters!\n",
    "\n",
    "函数 linspace() 非常有用。尝试更改输入参数！\n",
    "\n",
    "### Import style / 导入样式\n",
    "\n",
    "> You will often see code snippets that use the following lines\n",
    "\n",
    "您会经常看到使用以下行的代码片段\n",
    "\n",
    "```python\n",
    "import numpy as np\n",
    "import matplotlib.pyplot as plt\n",
    "```\n",
    "\n",
    "> What's all of this import-as business? It's a way of creating a 'shortcut' to the NumPy library and the pyplot module. You will see it frequently as it is in common usage, but we prefer to keep out imports explicit. We think it helps with code readability.\n",
    "\n",
    "什么是导入样式？这是一种为 NumPy 库和 pyplot 模块创建“快捷方式”的方法。由于它很常用，因此你会经常看到它，但我们更喜欢明确导入。我们认为它有助于提高代码的可读性。\n",
    "\n",
    "### Pro tip / 专业提示\n",
    "\n",
    "> Sometimes, you'll see people importing a whole library without assigning a shortcut for it (like `from numpy import *`). This saves typing but is sloppy and can get you in trouble. Best to get into good habits from the beginning!\n",
    "\n",
    "有时，您会看到人们在没有为其分配快捷方式的情况下导入整个库（例如 `from numpy import *`）。这样可以节省字节，但很草率，会给你带来麻烦。最好从一开始就养成好习惯！\n",
    "\n",
    "> To learn new functions available to you, visit the [NumPy Reference](https://numpy.org/doc/stable/reference/) page. If you are a proficient `Matlab` user, there is a wiki page that should prove helpful to you: [NumPy for Matlab Users](http://wiki.scipy.org/NumPy_for_Matlab_Users)\n",
    "\n",
    "要了解您可以使用的新功能，请访问 [NumPy 参考页面](https://numpy.org/doc/stable/reference/)。如果你是一个熟练的 `Matlab` 用户，有一个 wiki 页面应该对你有帮助：[NumPy for Matlab Users](http://wiki.scipy.org/NumPy_for_Matlab_Users)\n",
    "\n",
    "<br>\n",
    "\n",
    "## Variables / 变量\n",
    "\n",
    "> Python doesn't require explicitly declared variable types like C and other languages.\n",
    "\n",
    "Python 不需要像 C 和其他语言那样显式声明的变量类型。"
   ]
  },
  {
   "cell_type": "code",
   "execution_count": 4,
   "metadata": {},
   "outputs": [],
   "source": [
    "a = 5        #a is an integer 5\n",
    "b = 'five'   #b is a string of the word 'five'\n",
    "c = 5.0      #c is a floating point 5  "
   ]
  },
  {
   "cell_type": "code",
   "execution_count": 5,
   "metadata": {},
   "outputs": [
    {
     "data": {
      "text/plain": [
       "int"
      ]
     },
     "execution_count": 5,
     "metadata": {},
     "output_type": "execute_result"
    }
   ],
   "source": [
    "type(a)"
   ]
  },
  {
   "cell_type": "code",
   "execution_count": 6,
   "metadata": {},
   "outputs": [
    {
     "data": {
      "text/plain": [
       "str"
      ]
     },
     "execution_count": 6,
     "metadata": {},
     "output_type": "execute_result"
    }
   ],
   "source": [
    "type(b)"
   ]
  },
  {
   "cell_type": "code",
   "execution_count": 7,
   "metadata": {},
   "outputs": [
    {
     "data": {
      "text/plain": [
       "float"
      ]
     },
     "execution_count": 7,
     "metadata": {},
     "output_type": "execute_result"
    }
   ],
   "source": [
    "type(c)"
   ]
  },
  {
   "cell_type": "markdown",
   "metadata": {},
   "source": [
    "> Note that if you divide an integer by an integer that yields a remainder, the result will be converted to a float. (This is different from the behavior in Python 2.7, beware!)\n",
    "\n",
    "请注意，如果将整数除以产生余数的整数，则结果将转换为浮点数。（这与 Python 2.7 中的行为不同，请注意！）\n",
    "\n",
    "<br>\n",
    "\n",
    "## Whitespace in Python / Python 中的空白\n",
    "\n",
    "> Python uses indents and whitespace to group statements together. To write a short loop in C, you might use:\n",
    "\n",
    "Python 使用缩进和空格将语句组合在一起。要在 C 中编写一个短循环，您可以使用：\n",
    "\n",
    "```c\n",
    "for (i = 0, i < 5, i++){\n",
    "   printf(\"Hi! \\n\");\n",
    "}\n",
    "```\n",
    "\n",
    "> Python does not use curly braces like C, so the same program as above is written in Python as follows:\n",
    "\n",
    "Python不像C那样使用花括号，所以和上面一样的程序用Python写成如下："
   ]
  },
  {
   "cell_type": "code",
   "execution_count": 8,
   "metadata": {},
   "outputs": [
    {
     "name": "stdout",
     "output_type": "stream",
     "text": [
      "Hi \n",
      "\n",
      "Hi \n",
      "\n",
      "Hi \n",
      "\n",
      "Hi \n",
      "\n",
      "Hi \n",
      "\n"
     ]
    }
   ],
   "source": [
    "for i in range(5):\n",
    "    print(\"Hi \\n\")"
   ]
  },
  {
   "cell_type": "markdown",
   "metadata": {},
   "source": [
    "> If you have nested for-loops, there is a further indent for the inner loop.\n",
    "\n",
    "如果您有嵌套的 for 循环，则内部循环会进一步缩进。"
   ]
  },
  {
   "cell_type": "code",
   "execution_count": 9,
   "metadata": {},
   "outputs": [
    {
     "name": "stdout",
     "output_type": "stream",
     "text": [
      "0 0\n",
      "0 1\n",
      "0 2\n",
      "该语句在 i 循环内，但不在 j 循环内\n",
      "1 0\n",
      "1 1\n",
      "1 2\n",
      "该语句在 i 循环内，但不在 j 循环内\n",
      "2 0\n",
      "2 1\n",
      "2 2\n",
      "该语句在 i 循环内，但不在 j 循环内\n"
     ]
    }
   ],
   "source": [
    "for i in range(3):\n",
    "    for j in range(3):\n",
    "        print(i, j)\n",
    "    \n",
    "    print(\"该语句在 i 循环内，但不在 j 循环内\")"
   ]
  },
  {
   "cell_type": "markdown",
   "metadata": {},
   "source": [
    "## Slicing Arrays / 切片数组\n",
    "\n",
    "> In NumPy, you can look at portions of arrays in the same way as in `Matlab`, with a few extra tricks thrown in. Let's take an array of values from 1 to 5.\n",
    "\n",
    "在 NumPy 中，您可以像在 `Matlab` 中一样查看数组的各个部分，但需要添加一些额外的技巧。让我们取一个值从 1 到 5 的数组。"
   ]
  },
  {
   "cell_type": "code",
   "execution_count": 10,
   "metadata": {},
   "outputs": [
    {
     "data": {
      "text/plain": [
       "array([1, 2, 3, 4, 5])"
      ]
     },
     "execution_count": 10,
     "metadata": {},
     "output_type": "execute_result"
    }
   ],
   "source": [
    "myvals = numpy.array([1, 2, 3, 4, 5])\n",
    "myvals"
   ]
  },
  {
   "cell_type": "markdown",
   "metadata": {},
   "source": [
    "> Python uses a **zero-based index**, so let's look at the first and last element in the array `myvals`\n",
    "\n",
    "Python 使用**从零开始的索引**，所以让我们看看数组 `myvals` 中的第一个和最后一个元素"
   ]
  },
  {
   "cell_type": "code",
   "execution_count": 11,
   "metadata": {},
   "outputs": [
    {
     "data": {
      "text/plain": [
       "(1, 5)"
      ]
     },
     "execution_count": 11,
     "metadata": {},
     "output_type": "execute_result"
    }
   ],
   "source": [
    "myvals[0], myvals[4]"
   ]
  },
  {
   "cell_type": "markdown",
   "metadata": {},
   "source": [
    "> There are 5 elements in the array `myvals`, but if we try to look at `myvals[5]`, Python will be unhappy, as `myvals[5]` is actually calling the non-existant 6th element of that array.\n",
    "\n",
    "数组 `myvals` 中有 5 个元素，但如果我们尝试查看 `myvals[5]`，Python 不会允许这种做法，因为 `myvals[5]` 实际上调用了该数组中不存在的第 6 个元素。"
   ]
  },
  {
   "cell_type": "code",
   "execution_count": 12,
   "metadata": {},
   "outputs": [
    {
     "ename": "NameError",
     "evalue": "name 'muvals' is not defined",
     "output_type": "error",
     "traceback": [
      "\u001b[0;31m---------------------------------------------------------------------------\u001b[0m",
      "\u001b[0;31mNameError\u001b[0m                                 Traceback (most recent call last)",
      "\u001b[1;32m/Users/xumingjun/blog/source/notebook/Python Crash Course.ipynb Cell 21\u001b[0m in \u001b[0;36m<cell line: 1>\u001b[0;34m()\u001b[0m\n\u001b[0;32m----> <a href='vscode-notebook-cell:/Users/xumingjun/blog/source/notebook/Python%20Crash%20Course.ipynb#X44sZmlsZQ%3D%3D?line=0'>1</a>\u001b[0m muvals[\u001b[39m5\u001b[39m]\n",
      "\u001b[0;31mNameError\u001b[0m: name 'muvals' is not defined"
     ]
    }
   ],
   "source": [
    "muvals[5]"
   ]
  },
  {
   "cell_type": "markdown",
   "metadata": {},
   "source": [
    "> Arrays can also be 'sliced', grabbing a range of values. Let's look at the first three elements\n",
    "\n",
    "数组也可以被“切片”，获取一系列值。让我们看看前三个元素"
   ]
  },
  {
   "cell_type": "code",
   "execution_count": 13,
   "metadata": {},
   "outputs": [
    {
     "data": {
      "text/plain": [
       "array([1, 2, 3])"
      ]
     },
     "execution_count": 13,
     "metadata": {},
     "output_type": "execute_result"
    }
   ],
   "source": [
    "myvals[0:3]"
   ]
  },
  {
   "cell_type": "markdown",
   "metadata": {},
   "source": [
    "> Note here, the slice is inclusive on the front end and exclusive on the back, so the above command gives us the values of `myvals[0]`, `myvals[1]` and `myvals[2]`, but not `myvals[3]`.\n",
    "\n",
    "注意，切片在前端是包含的，在后面是不包含的，所以上面的命令给了我们 `myvals[0]`、`myvals[1]` 和 `myvals[2]` 的值，而不是 `myvals[3]`。\n",
    "\n",
    "<br>\n",
    "\n",
    "## Assigning Array Variables / 分配数组变量\n",
    "\n",
    "> One of the strange little quirks/features in Python that often confuses people comes up when assigning and comparing arrays of values. Here is a quick example. Let's start by defining a 1-D array called $a$:\n",
    "\n",
    "在分配和比较值数组时，Python 中的一个奇怪的小技巧/功能经常让人们感到困惑。这是一个简单的例子，让我们从定义一个名为 $a$ 的一维数组开始："
   ]
  },
  {
   "cell_type": "code",
   "execution_count": 14,
   "metadata": {},
   "outputs": [],
   "source": [
    "a = numpy.linspace(1,5,5)"
   ]
  },
  {
   "cell_type": "code",
   "execution_count": 15,
   "metadata": {},
   "outputs": [
    {
     "data": {
      "text/plain": [
       "array([1., 2., 3., 4., 5.])"
      ]
     },
     "execution_count": 15,
     "metadata": {},
     "output_type": "execute_result"
    }
   ],
   "source": [
    "a"
   ]
  },
  {
   "cell_type": "markdown",
   "metadata": {},
   "source": [
    "> OK, so we have an array $a$, with the values 1 through 5. I want to make a copy of that array, called $b$, so I'll try the following:\n",
    "\n",
    "好的，所以我们有一个数组 $a$，其值为 1 到 5。我想复制该数组，称为 $b$，所以我将尝试以下操作："
   ]
  },
  {
   "cell_type": "code",
   "execution_count": 16,
   "metadata": {},
   "outputs": [],
   "source": [
    "b = a"
   ]
  },
  {
   "cell_type": "code",
   "execution_count": 17,
   "metadata": {},
   "outputs": [
    {
     "data": {
      "text/plain": [
       "array([1., 2., 3., 4., 5.])"
      ]
     },
     "execution_count": 17,
     "metadata": {},
     "output_type": "execute_result"
    }
   ],
   "source": [
    "b"
   ]
  },
  {
   "cell_type": "markdown",
   "metadata": {},
   "source": [
    "> Great. So $a$ has the values 1 through 5 and now so does $b$. Now that I have a backup of $a$, I can change its values without worrying about losing data (or so I may think!).\n",
    "\n",
    "很好，所以 $a$ 的值是 1 到 5，现在 $b$ 也是如此。现在我有了 $a$ 的备份，我可以更改它的值而不必担心丢失数据（或者我可能会这么想！）。"
   ]
  },
  {
   "cell_type": "code",
   "execution_count": 18,
   "metadata": {},
   "outputs": [],
   "source": [
    "a[2] = 17"
   ]
  },
  {
   "cell_type": "code",
   "execution_count": 19,
   "metadata": {},
   "outputs": [
    {
     "data": {
      "text/plain": [
       "array([ 1.,  2., 17.,  4.,  5.])"
      ]
     },
     "execution_count": 19,
     "metadata": {},
     "output_type": "execute_result"
    }
   ],
   "source": [
    "a "
   ]
  },
  {
   "cell_type": "markdown",
   "metadata": {},
   "source": [
    "> Here, the 3rd element of $a$ has been changed to 17. Now let's check on $b$.\n",
    "\n",
    "在这里，$a$ 的第三个元素已更改为 17。现在让我们检查一下 $b$。"
   ]
  },
  {
   "cell_type": "code",
   "execution_count": 20,
   "metadata": {},
   "outputs": [
    {
     "data": {
      "text/plain": [
       "array([ 1.,  2., 17.,  4.,  5.])"
      ]
     },
     "execution_count": 20,
     "metadata": {},
     "output_type": "execute_result"
    }
   ],
   "source": [
    "b"
   ]
  },
  {
   "cell_type": "markdown",
   "metadata": {},
   "source": [
    "> And that's how things go wrong! When you use a statement like $a=b$, rather than copying all the values of $a$ into a new array called $b$, Python just creates an alias (or a pointer) called $b$ and tells it to route us to $a$. So if we change a value in $a$ then $b$ will reflect that change (technically, this is called assignment by reference). If you want to make a true copy of the array, you have to tell Python to copy every element of a into a new array. Let's call it $c$.\n",
    "\n",
    "事情就是这样出错的！当您使用像 $a=b$ 这样的语句时，Python 不会将 $a$ 的所有值复制到一个名为 $b$ 的新数组中，而是创建一个名为 $b$ 的别名（或指针）并告诉它的值为 $a$。 因此，如果我们更改 $a$ 中的值，则 $b$ 将反映该更改（从技术上讲，这称为引用赋值）。如果你想创建一个数组的真正副本，你必须告诉 Python 将 a 的每个元素复制到一个新数组中，我们称之为$c$。"
   ]
  },
  {
   "cell_type": "code",
   "execution_count": 21,
   "metadata": {},
   "outputs": [],
   "source": [
    "c = a.copy()"
   ]
  },
  {
   "cell_type": "markdown",
   "metadata": {},
   "source": [
    "> Now, we can try again to change a value in $a$ and see if the changes are also seen in $c$.\n",
    "\n",
    "现在，我们可以再次尝试更改 $a$ 中的值，看看是否也可以在 $c$ 中看到更改。"
   ]
  },
  {
   "cell_type": "code",
   "execution_count": 22,
   "metadata": {},
   "outputs": [],
   "source": [
    "a[2] = 3"
   ]
  },
  {
   "cell_type": "code",
   "execution_count": 23,
   "metadata": {},
   "outputs": [
    {
     "data": {
      "text/plain": [
       "array([1., 2., 3., 4., 5.])"
      ]
     },
     "execution_count": 23,
     "metadata": {},
     "output_type": "execute_result"
    }
   ],
   "source": [
    "a"
   ]
  },
  {
   "cell_type": "code",
   "execution_count": 24,
   "metadata": {},
   "outputs": [
    {
     "data": {
      "text/plain": [
       "array([ 1.,  2., 17.,  4.,  5.])"
      ]
     },
     "execution_count": 24,
     "metadata": {},
     "output_type": "execute_result"
    }
   ],
   "source": [
    "c"
   ]
  },
  {
   "cell_type": "markdown",
   "metadata": {},
   "source": [
    "> OK, it worked! If the difference between `a = b` and `a = b.copy()` is unclear, you should read through this again. This issue will come back to haunt you otherwise.\n",
    "\n",
    "好的，它成功了！ 如果 `a = b` 和 `a = b.copy()` 之间的区别不清楚，你应该再读一遍，否则，这个问题将再次困扰您。"
   ]
  }
 ],
 "metadata": {
  "kernelspec": {
   "display_name": "Python 3.9.12 ('base')",
   "language": "python",
   "name": "python3"
  },
  "language_info": {
   "codemirror_mode": {
    "name": "ipython",
    "version": 3
   },
   "file_extension": ".py",
   "mimetype": "text/x-python",
   "name": "python",
   "nbconvert_exporter": "python",
   "pygments_lexer": "ipython3",
   "version": "3.9.12"
  },
  "orig_nbformat": 4,
  "vscode": {
   "interpreter": {
    "hash": "40d3a090f54c6569ab1632332b64b2c03c39dcf918b08424e98f38b5ae0af88f"
   }
  }
 },
 "nbformat": 4,
 "nbformat_minor": 2
}
